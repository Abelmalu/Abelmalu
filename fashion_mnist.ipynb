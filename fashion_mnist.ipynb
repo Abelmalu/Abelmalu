{
  "nbformat": 4,
  "nbformat_minor": 0,
  "metadata": {
    "colab": {
      "provenance": [],
      "authorship_tag": "ABX9TyOSOaxUBqF5pKceqekfIBeC",
      "include_colab_link": true
    },
    "kernelspec": {
      "name": "python3",
      "display_name": "Python 3"
    },
    "language_info": {
      "name": "python"
    }
  },
  "cells": [
    {
      "cell_type": "markdown",
      "metadata": {
        "id": "view-in-github",
        "colab_type": "text"
      },
      "source": [
        "<a href=\"https://colab.research.google.com/github/Abelmalu/Abelmalu/blob/main/fashion_mnist.ipynb\" target=\"_parent\"><img src=\"https://colab.research.google.com/assets/colab-badge.svg\" alt=\"Open In Colab\"/></a>"
      ]
    },
    {
      "cell_type": "code",
      "execution_count": 1,
      "metadata": {
        "id": "-axaFrsDljox"
      },
      "outputs": [],
      "source": [
        "import tensorflow as tf\n",
        "import numpy as np\n",
        "import matplotlib.pyplot as plt\n",
        "import pandas as pd\n"
      ]
    },
    {
      "cell_type": "code",
      "source": [
        "data_frame = pd.read_csv('mnist_train.csv')\n",
        "# print(data_frame.head())\n",
        "y_train = data_frame['label']\n",
        "# print(y_train)\n",
        "x_train = data_frame.drop('label',axis=1)\n",
        "# print('training data of pixels')\n",
        "# print(x_train.head())\n",
        "print(f\"Shape of features (x_train): {x_train.shape}\")\n",
        "print(f\"Shape of labels (y_train): {y_train.shape}\")"
      ],
      "metadata": {
        "colab": {
          "base_uri": "https://localhost:8080/"
        },
        "id": "h8fG4K8j-LjI",
        "outputId": "0d3ba5be-f386-4207-e437-e41d79f79852"
      },
      "execution_count": 29,
      "outputs": [
        {
          "output_type": "stream",
          "name": "stdout",
          "text": [
            "Shape of features (x_train): (60000, 784)\n",
            "Shape of labels (y_train): (60000,)\n"
          ]
        }
      ]
    },
    {
      "cell_type": "code",
      "source": [
        "# Convert Pandas DataFrames to NumPy arrays\n",
        "x_train_np = x_train.values\n",
        "y_train_np = y_train.values\n",
        "x_train_np_normalized = x_train_np/255\n",
        "x_train_np_normalized = x_train_np_normalized.reshape(x_train_np.shape[0],28,28,1)"
      ],
      "metadata": {
        "colab": {
          "base_uri": "https://localhost:8080/"
        },
        "id": "5zXJLKqEZbsR",
        "outputId": "ea424ee4-e2cc-4931-b53b-6db4f0e69589"
      },
      "execution_count": 32,
      "outputs": [
        {
          "output_type": "execute_result",
          "data": {
            "text/plain": [
              "array([[0., 0., 0., ..., 0., 0., 0.],\n",
              "       [0., 0., 0., ..., 0., 0., 0.],\n",
              "       [0., 0., 0., ..., 0., 0., 0.],\n",
              "       ...,\n",
              "       [0., 0., 0., ..., 0., 0., 0.],\n",
              "       [0., 0., 0., ..., 0., 0., 0.],\n",
              "       [0., 0., 0., ..., 0., 0., 0.]])"
            ]
          },
          "metadata": {},
          "execution_count": 32
        }
      ]
    },
    {
      "cell_type": "code",
      "source": [
        "# Creating a model\n",
        "\n",
        "model = tf.keras.Sequential([\n",
        "    #an input layer with 128 neurons\n",
        "   tf.keras.layers.Dense(128, activation='relu', input_shape=(784,)),\n",
        "    # Dense layer with 128 neurons\n",
        "   tf.keras.layers.Dense(128,activation='relu'),\n",
        "    # Finally an output layer with 10 neurons\n",
        "   tf.keras.layers.Dense(10, activation='softmax')\n",
        "])"
      ],
      "metadata": {
        "colab": {
          "base_uri": "https://localhost:8080/"
        },
        "id": "5BIuQSznklKz",
        "outputId": "ba3768a6-19b4-462a-9cfe-1a0eca1acdf4"
      },
      "execution_count": 33,
      "outputs": [
        {
          "output_type": "stream",
          "name": "stderr",
          "text": [
            "/usr/local/lib/python3.12/dist-packages/keras/src/layers/core/dense.py:93: UserWarning: Do not pass an `input_shape`/`input_dim` argument to a layer. When using Sequential models, prefer using an `Input(shape)` object as the first layer in the model instead.\n",
            "  super().__init__(activity_regularizer=activity_regularizer, **kwargs)\n"
          ]
        }
      ]
    }
  ]
}